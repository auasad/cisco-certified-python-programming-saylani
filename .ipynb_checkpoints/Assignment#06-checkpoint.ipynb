{
 "cells": [
  {
   "cell_type": "code",
   "execution_count": null,
   "metadata": {},
   "outputs": [],
   "source": [
    "OOP stands for Object-Oriented Programming.\n",
    "\n",
    "Procedural programming is about writing procedures or functions that perform operations on the data, \n",
    "while object-oriented programming is about creating objects that contain both data and functions.\n",
    "\n"
   ]
  },
  {
   "cell_type": "code",
   "execution_count": null,
   "metadata": {},
   "outputs": [],
   "source": [
    "Adavantages of OOP\n",
    "\n",
    "1. OOP is faster and easier to execute\n",
    "2. OOP provides a clear structure for the programs\n",
    "3. OOP helps to keep the C++ code DRY \"Don't Repeat Yourself\", and makes the code \n",
    "    easier to maintain, modify and debug\n",
    "4. OOP makes it possible to create full reusable applications with less code and shorter \n",
    "    development time\n",
    "    "
   ]
  },
  {
   "cell_type": "code",
   "execution_count": null,
   "metadata": {},
   "outputs": [],
   "source": [
    "Method :\n",
    "\n",
    "1. Method is called by its name, but it is associated to an object (dependent).\n",
    "2. A method is implicitly passed the object on which it is invoked.\n",
    "3. It may or may not return any data.\n",
    "4. A method can operate on the data (instance variables) that is contained by the corresponding class\n",
    "\n",
    "Function :\n",
    "    \n",
    "1. Function is block of code that is also called by its name. (independent)\n",
    "2. The function can have different parameters or may not have any at all. If any data (parameters) are passed,\n",
    "    they are passed explicitly.\n",
    "3. It may or may not return any data.\n",
    "4. Function does not deal with Class and its instance concept.\n"
   ]
  },
  {
   "cell_type": "code",
   "execution_count": null,
   "metadata": {},
   "outputs": [],
   "source": [
    "Class :\n",
    "    A class is a user defined blueprint or prototype from which objects are created. It represents \n",
    "    the set of properties or methods that are common to all objects of one type. \n",
    "    \n",
    "Object :\n",
    "    It is a basic unit of Object Oriented Programming and represents the real life entities. A typical\n",
    "    Java program creates many objects, which as you know, interact by invoking methods.\n",
    "    \n",
    "Attribute :\n",
    "    In Object-oriented programming(OOP), classes and objects have attributes. Attributes are data stored \n",
    "    inside a class or instance and represent the state or quality of the class or instance. In short, \n",
    "    attributes store information about the instance.\n",
    "    \n",
    "Behavior : \n",
    "    A class's behavior determines how an instance of that class operates; for example, how it will \"react\" \n",
    "    if asked to do something by another class or object or if its internal state changes. Behavior is the\n",
    "    only way objects can do anything to themselves or have anything done to them."
   ]
  },
  {
   "cell_type": "code",
   "execution_count": null,
   "metadata": {},
   "outputs": [],
   "source": []
  }
 ],
 "metadata": {
  "kernelspec": {
   "display_name": "Python 3",
   "language": "python",
   "name": "python3"
  },
  "language_info": {
   "codemirror_mode": {
    "name": "ipython",
    "version": 3
   },
   "file_extension": ".py",
   "mimetype": "text/x-python",
   "name": "python",
   "nbconvert_exporter": "python",
   "pygments_lexer": "ipython3",
   "version": "3.7.3"
  }
 },
 "nbformat": 4,
 "nbformat_minor": 2
}
