{
 "cells": [
  {
   "cell_type": "code",
   "execution_count": 21,
   "metadata": {},
   "outputs": [
    {
     "name": "stdout",
     "output_type": "stream",
     "text": [
      "--------------- 1st--------------\n",
      "Name : Toyota\n",
      "Model : 2019\n",
      "Type : Manual\n",
      "--------------- 2nd--------------\n",
      "Name : Diahatsu\n",
      "Model : 2019\n",
      "Type : Automatic\n",
      "--------------- 3rd--------------\n",
      "Name : Mira\n",
      "Model : 2019\n",
      "Type : Manual\n",
      "--------------- 4th--------------\n",
      "Name : Alto\n",
      "Model : 2019\n",
      "Type : Manual\n",
      "--------------- 5th--------------\n",
      "Name : Honda\n",
      "Model : 2019\n",
      "Type : Automatic\n"
     ]
    }
   ],
   "source": [
    "class Car:\n",
    "    name = \"Mercedes-Benz\"\n",
    "    model = \"2019\"\n",
    "    color = \"Black\"\n",
    "    founder = \"Karl Benz\"\n",
    "    c_type = \"Automatic\"\n",
    "    \n",
    "    def name_of_car(self):\n",
    "        print(\"Name : \" + self.name)\n",
    "        \n",
    "    def model_of_car(self):\n",
    "        print(\"Model : \" + self.model)\n",
    "        \n",
    "    def type_of_car(self):\n",
    "        print(\"Type : \" + self.c_type)\n",
    "\n",
    "## 1st obj  \n",
    "print(\"--------------- 1st--------------\")\n",
    "obj1 = Car()\n",
    "obj1.name = \"Toyota\"\n",
    "obj1.color = \"Red\"\n",
    "obj1.c_type = \"Manual\"\n",
    "obj1.name_of_car()\n",
    "obj1.model_of_car()\n",
    "obj1.type_of_car()\n",
    "        \n",
    "## 2nd obj\n",
    "print(\"--------------- 2nd--------------\")\n",
    "obj2 = Car()\n",
    "obj2.name = \"Diahatsu\"\n",
    "obj2.color = \"Black\"\n",
    "obj2.c_type = \"Automatic\"\n",
    "obj2.name_of_car()\n",
    "obj2.model_of_car()\n",
    "obj2.type_of_car()\n",
    "\n",
    "## 3rd obj\n",
    "print(\"--------------- 3rd--------------\")\n",
    "obj3 = Car()\n",
    "obj3.name = \"Mira\"\n",
    "obj3.color = \"Red\"\n",
    "obj3.c_type = \"Manual\"\n",
    "obj3.name_of_car()\n",
    "obj3.model_of_car()\n",
    "obj3.type_of_car()\n",
    "\n",
    "## 4th obj\n",
    "print(\"--------------- 4th--------------\")\n",
    "obj4 = Car()\n",
    "obj4.name = \"Alto\"\n",
    "obj4.color = \"Blue\"\n",
    "obj4.c_type = \"Manual\"\n",
    "obj4.name_of_car()\n",
    "obj4.model_of_car()\n",
    "obj4.type_of_car()\n",
    "\n",
    "## 5th obj\n",
    "print(\"--------------- 5th--------------\")\n",
    "obj5 = Car()\n",
    "obj5.name = \"Honda\"\n",
    "obj5.color = \"White\"\n",
    "obj5.c_type = \"Automatic\"\n",
    "obj5.name_of_car()\n",
    "obj5.model_of_car()\n",
    "obj5.type_of_car()\n"
   ]
  },
  {
   "cell_type": "code",
   "execution_count": null,
   "metadata": {},
   "outputs": [],
   "source": []
  },
  {
   "cell_type": "code",
   "execution_count": null,
   "metadata": {},
   "outputs": [],
   "source": []
  },
  {
   "cell_type": "code",
   "execution_count": null,
   "metadata": {},
   "outputs": [],
   "source": []
  }
 ],
 "metadata": {
  "kernelspec": {
   "display_name": "Python 3",
   "language": "python",
   "name": "python3"
  },
  "language_info": {
   "codemirror_mode": {
    "name": "ipython",
    "version": 3
   },
   "file_extension": ".py",
   "mimetype": "text/x-python",
   "name": "python",
   "nbconvert_exporter": "python",
   "pygments_lexer": "ipython3",
   "version": "3.7.3"
  }
 },
 "nbformat": 4,
 "nbformat_minor": 2
}
