{
 "cells": [
  {
   "cell_type": "code",
   "execution_count": 1,
   "metadata": {},
   "outputs": [
    {
     "name": "stdout",
     "output_type": "stream",
     "text": [
      "Enter First Number: 3\n",
      "Enter Second Number: 4\n",
      "7\n"
     ]
    }
   ],
   "source": [
    "## Addition of two numbers\n",
    "num1 = int(input(\"Enter First Number: \"))\n",
    "num2 = int(input(\"Enter Second Number: \"))\n",
    "\n",
    "addition = num1 + num2\n",
    "print(addition)"
   ]
  },
  {
   "cell_type": "code",
   "execution_count": 2,
   "metadata": {},
   "outputs": [
    {
     "name": "stdout",
     "output_type": "stream",
     "text": [
      "Enter the radius : 4\n",
      "50.24\n"
     ]
    }
   ],
   "source": [
    "## To caculate the area of circle taking raduis as input from user\n",
    "\n",
    "radius = float(input(\"Enter the radius : \"))\n",
    "circle_area = 3.14 * radius * radius\n",
    "print(circle_area)"
   ]
  },
  {
   "cell_type": "code",
   "execution_count": 3,
   "metadata": {},
   "outputs": [
    {
     "name": "stdout",
     "output_type": "stream",
     "text": [
      "2019-11-24-16:58:06\n"
     ]
    }
   ],
   "source": [
    "## To print current date time in python.\n",
    "\n",
    "from datetime import datetime\n",
    "\n",
    "print(datetime.today().strftime('%Y-%m-%d-%H:%M:%S'))"
   ]
  },
  {
   "cell_type": "code",
   "execution_count": 4,
   "metadata": {},
   "outputs": [
    {
     "name": "stdout",
     "output_type": "stream",
     "text": [
      "3.7.3 | packaged by conda-forge | (default, Mar 27 2019, 23:01:00) \n",
      "[GCC 7.3.0]\n",
      "3.7.3\n"
     ]
    }
   ],
   "source": [
    "## to print current python installed version\n",
    "\n",
    "import sys\n",
    "import platform\n",
    "\n",
    "print(sys.version)\n",
    "print(platform.python_version())"
   ]
  },
  {
   "cell_type": "code",
   "execution_count": 5,
   "metadata": {},
   "outputs": [
    {
     "name": "stdout",
     "output_type": "stream",
     "text": [
      "Twinkle, twinkle, little star,\n",
      "            \"How I wonder what you are!\n",
      "                  \"Up above the world so high,\n",
      "                  \"Like a diamond in the sky.\n",
      "      \"Twinkle, twinkle, little star,\n",
      "            \"How I wonder what you are\n"
     ]
    }
   ],
   "source": [
    "## to print a long string in a given pattern.\n",
    "\n",
    "str = \"\"\"Twinkle, twinkle, little star,\n",
    "            \"How I wonder what you are!\n",
    "                  \"Up above the world so high,\n",
    "                  \"Like a diamond in the sky.\n",
    "      \"Twinkle, twinkle, little star,\n",
    "            \"How I wonder what you are\"\"\"\n",
    "print(str)"
   ]
  },
  {
   "cell_type": "code",
   "execution_count": 6,
   "metadata": {},
   "outputs": [
    {
     "name": "stdout",
     "output_type": "stream",
     "text": [
      "Enter First Name: Asad\n",
      "Enter Last Name: Ullah\n",
      "Full Name is : Asad Ullah\n",
      "hallU dasA\n"
     ]
    }
   ],
   "source": [
    "## to print the name in reverse order taken from user.\n",
    "\n",
    "## taking input from user\n",
    "f_name = input(\"Enter First Name: \")\n",
    "l_name = input(\"Enter Last Name: \")\n",
    "\n",
    "## concatination the first and last name\n",
    "full_name = f_name + \" \" + l_name\n",
    "print(\"Full Name is : \" + full_name )\n",
    "\n",
    "## reverse the string\n",
    "print(full_name[::-1])"
   ]
  },
  {
   "cell_type": "code",
   "execution_count": null,
   "metadata": {},
   "outputs": [],
   "source": []
  }
 ],
 "metadata": {
  "kernelspec": {
   "display_name": "Python 3",
   "language": "python",
   "name": "python3"
  },
  "language_info": {
   "codemirror_mode": {
    "name": "ipython",
    "version": 3
   },
   "file_extension": ".py",
   "mimetype": "text/x-python",
   "name": "python",
   "nbconvert_exporter": "python",
   "pygments_lexer": "ipython3",
   "version": "3.7.3"
  }
 },
 "nbformat": 4,
 "nbformat_minor": 2
}
