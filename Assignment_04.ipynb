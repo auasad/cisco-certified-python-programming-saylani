{
 "cells": [
  {
   "cell_type": "code",
   "execution_count": 1,
   "metadata": {},
   "outputs": [
    {
     "name": "stdout",
     "output_type": "stream",
     "text": [
      "first_name : Asad\n",
      "last_name : Ullah\n",
      "age : 30\n",
      "city : Karachi\n",
      "gender : male\n"
     ]
    }
   ],
   "source": [
    "dict = {\"first_name\": \"Asad\", \"last_name\": \"Ullah\", \"age\": \"30\", \"city\": \"Karachi\", \"gender\": \"male\"}\n",
    "for key,value in dict.items():\n",
    "    print(key + \" \"+\":\"+ \" \" + value)"
   ]
  },
  {
   "cell_type": "code",
   "execution_count": 2,
   "metadata": {},
   "outputs": [
    {
     "name": "stdout",
     "output_type": "stream",
     "text": [
      "first_name : Asad\n",
      "last_name : Ullah\n",
      "age : 30\n",
      "city : Karachi\n",
      "gender : male\n",
      "qualification : Graduation\n"
     ]
    }
   ],
   "source": [
    "dict[\"qualification\"] = \"Graduation\"\n",
    "for key,value in dict.items():\n",
    "    print(key + \" \"+\":\"+ \" \" + value)"
   ]
  },
  {
   "cell_type": "code",
   "execution_count": 3,
   "metadata": {},
   "outputs": [
    {
     "name": "stdout",
     "output_type": "stream",
     "text": [
      "first_name : Asad\n",
      "last_name : Ullah\n",
      "age : 30\n",
      "city : Karachi\n",
      "gender : male\n",
      "qualification : MS\n"
     ]
    }
   ],
   "source": [
    "dict[\"qualification\"] = \"MS\"\n",
    "for key,value in dict.items():\n",
    "    print(key + \" \"+\":\"+ \" \" + value)"
   ]
  },
  {
   "cell_type": "code",
   "execution_count": 4,
   "metadata": {},
   "outputs": [
    {
     "name": "stdout",
     "output_type": "stream",
     "text": [
      "first_name : Asad\n",
      "last_name : Ullah\n",
      "age : 30\n",
      "city : Karachi\n",
      "gender : male\n"
     ]
    }
   ],
   "source": [
    "del dict[\"qualification\"]\n",
    "for key,value in dict.items():\n",
    "    print(key + \" \"+\":\"+ \" \" + value)"
   ]
  },
  {
   "cell_type": "code",
   "execution_count": 8,
   "metadata": {},
   "outputs": [
    {
     "name": "stdout",
     "output_type": "stream",
     "text": [
      "Bangkok {'Country': 'Thailand', 'Population': '8.281 Million', 'Known as': 'Best food in the world'}\n",
      "Singapore {'country': 'Malaysia', 'Population': '5.612 Million', 'Known as': 'its clean streets and its modern and tall buildings'}\n",
      "Paris {'Country': 'France', 'Population': '2.141 Million', 'Known as': 'Eiffel Tower'}\n"
     ]
    }
   ],
   "source": [
    "cities_info = {\"Bangkok\": {\n",
    "    \"Country\": \"Thailand\",\n",
    "    \"Population\": \"8.281 Million\",\n",
    "    \"Known as\" : \"Best food in the world\",\n",
    "}, \"Singapore\": {\n",
    "    \"country\": \"Malaysia\",\n",
    "    \"Population\": \"5.612 Million\",\n",
    "    \"Known as\": \"its clean streets and its modern and tall buildings\",\n",
    "},\"Paris\" : {\n",
    "    \"Country\": \"France\",\n",
    "    \"Population\": \"2.141 Million\",\n",
    "    \"Known as\": \"Eiffel Tower\",\n",
    "},}\n",
    "for cities, values in cities_info.items():\n",
    "    print(cities, values)"
   ]
  },
  {
   "cell_type": "code",
   "execution_count": 9,
   "metadata": {},
   "outputs": [
    {
     "name": "stdout",
     "output_type": "stream",
     "text": [
      "enter your age : 3\n",
      "your ticket is free\n"
     ]
    }
   ],
   "source": [
    "age = int(input(\"Enter your age : \"))\n",
    "if age <= 3 :\n",
    "    print(\"your ticket is free\")\n",
    "elif age > 3 and age <= 12:\n",
    "    print(\"please pay 10$\")\n",
    "elif age > 12 :\n",
    "    print(\"please pay 15$\")\n",
    "else :\n",
    "    print(\"invalid input\")"
   ]
  },
  {
   "cell_type": "code",
   "execution_count": 10,
   "metadata": {},
   "outputs": [
    {
     "name": "stdout",
     "output_type": "stream",
     "text": [
      "one of my favourite book is  'tough time never last ' \n"
     ]
    }
   ],
   "source": [
    "def favourite_book(title):\n",
    "    print(\"one of my favourite book is \"+ title )\n",
    "\n",
    "favourite_book(\" 'tough time never last ' \")"
   ]
  },
  {
   "cell_type": "code",
   "execution_count": 11,
   "metadata": {},
   "outputs": [
    {
     "name": "stdout",
     "output_type": "stream",
     "text": [
      "guess a number : 15\n",
      "try a bigger number\n",
      "guess a number : 17\n",
      "try a bigger number\n",
      "guess a number : 20\n",
      "try a bigger number\n",
      "the number is : 21\n",
      "you lost ! better luck net time\n"
     ]
    }
   ],
   "source": [
    "import random\n",
    "random_number = random.randint(0,29)\n",
    "for i in range(3):\n",
    "    guess = int(input(\"guess a number : \"))\n",
    "    if guess == random_number:\n",
    "        print(\"You guess the correct number\")\n",
    "        break\n",
    "    elif guess > random_number and guess <= 29:\n",
    "        print(\"try a smaller number\")\n",
    "    elif guess < random_number and guess >= 0:\n",
    "        print(\"try a bigger number\")\n",
    "    else: \n",
    "        print(\"invalid number\")\n",
    "        \n",
    "print(\"the number is : \" + str(random_number))\n",
    "print(\"you lost ! better luck net time\")"
   ]
  },
  {
   "cell_type": "code",
   "execution_count": null,
   "metadata": {},
   "outputs": [],
   "source": []
  }
 ],
 "metadata": {
  "kernelspec": {
   "display_name": "Python 3",
   "language": "python",
   "name": "python3"
  },
  "language_info": {
   "codemirror_mode": {
    "name": "ipython",
    "version": 3
   },
   "file_extension": ".py",
   "mimetype": "text/x-python",
   "name": "python",
   "nbconvert_exporter": "python",
   "pygments_lexer": "ipython3",
   "version": "3.7.3"
  }
 },
 "nbformat": 4,
 "nbformat_minor": 2
}
