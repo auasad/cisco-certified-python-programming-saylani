{
 "cells": [
  {
   "cell_type": "code",
   "execution_count": 6,
   "metadata": {},
   "outputs": [
    {
     "name": "stdout",
     "output_type": "stream",
     "text": [
      "input your marks\n",
      "mathematics : 78\n",
      "english : 67\n",
      "physics : 89\n",
      "urdu : 56\n",
      "islamiat : 76\n",
      "obtained marks : 366\n",
      "Percentage : 73.2\n",
      "A Grade\n"
     ]
    }
   ],
   "source": [
    "\n",
    "print(\"input your marks\")\n",
    "math = int(input(\"mathematics : \"))\n",
    "english = int(input(\"english : \"))\n",
    "physics = int(input(\"physics : \"))\n",
    "urdu = int(input(\"urdu : \"))\n",
    "islamiat = int(input(\"islamiat : \"))\n",
    "totalMarks = 500\n",
    "ob_marks = math + english + physics + islamiat + urdu\n",
    "print(\"obtained marks : \" + str(ob_marks))\n",
    "per = ob_marks/totalMarks * 100\n",
    "print(\"Percentage : \" + str(per))\n",
    "if per >= 80 and per <= 100 :\n",
    "    print(\"A+ Grade\")\n",
    "elif per >= 70 and per <= 79 :\n",
    "    print(\"A Grade\")\n",
    "elif per >= 60 and per <= 69 :\n",
    "    print(\"B Grade\")\n",
    "elif per >= 50 and per <= 59 :\n",
    "    print(\"C Grade\")\n",
    "elif  per < 50 : \n",
    "    print(\"you are fail..\")\n",
    "else :\n",
    "    print(\"invalid marks..\")\n",
    "    \n"
   ]
  },
  {
   "cell_type": "code",
   "execution_count": 9,
   "metadata": {},
   "outputs": [
    {
     "name": "stdout",
     "output_type": "stream",
     "text": [
      "enter number : 7\n",
      "odd number\n"
     ]
    }
   ],
   "source": [
    "\n",
    "num = int(input(\"enter number : \"))\n",
    "if num % 2 == 0 : \n",
    "    print(\"even number\")\n",
    "else : \n",
    "    print(\"odd number\")"
   ]
  },
  {
   "cell_type": "code",
   "execution_count": 15,
   "metadata": {},
   "outputs": [
    {
     "name": "stdout",
     "output_type": "stream",
     "text": [
      "length of given list : 9\n"
     ]
    }
   ],
   "source": [
    "length_list = [1,2,4,5,4,7,8,9,0]\n",
    "print(\"length of given list : \" + str(len(length_list)))"
   ]
  },
  {
   "cell_type": "code",
   "execution_count": 17,
   "metadata": {},
   "outputs": [
    {
     "name": "stdout",
     "output_type": "stream",
     "text": [
      "sum of list : 40\n"
     ]
    }
   ],
   "source": [
    "print(\"sum of list : \" + str(sum(length_list)))"
   ]
  },
  {
   "cell_type": "code",
   "execution_count": 8,
   "metadata": {},
   "outputs": [
    {
     "name": "stdout",
     "output_type": "stream",
     "text": [
      "enter number : 4\n",
      "values of list less than : 4\n",
      "2\n",
      "2\n",
      "3\n",
      "1\n",
      "2\n",
      "4\n",
      "0\n"
     ]
    }
   ],
   "source": [
    "a = [2,2,3,1,2,4,5,6,7,8,9,0]\n",
    "num = int(input(\"enter number : \"))\n",
    "print(\"values of list less than : \" + str(num))\n",
    "for i in a : \n",
    "    if i <= num : \n",
    "        print(i)\n",
    "    \n",
    "        "
   ]
  },
  {
   "cell_type": "code",
   "execution_count": null,
   "metadata": {},
   "outputs": [],
   "source": []
  }
 ],
 "metadata": {
  "kernelspec": {
   "display_name": "Python 3",
   "language": "python",
   "name": "python3"
  },
  "language_info": {
   "codemirror_mode": {
    "name": "ipython",
    "version": 3
   },
   "file_extension": ".py",
   "mimetype": "text/x-python",
   "name": "python",
   "nbconvert_exporter": "python",
   "pygments_lexer": "ipython3",
   "version": "3.7.4"
  }
 },
 "nbformat": 4,
 "nbformat_minor": 2
}
