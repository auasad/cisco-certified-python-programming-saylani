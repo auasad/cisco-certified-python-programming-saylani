{
 "cells": [
  {
   "cell_type": "code",
   "execution_count": 6,
   "metadata": {},
   "outputs": [
    {
     "name": "stdout",
     "output_type": "stream",
     "text": [
      "Enter First Number : 4\n",
      "Enter Second Number: 3\n",
      "Choose Operation in one of the following;\n",
      "                  ADDITION : +\n",
      "                  SUBTRACTION : -\n",
      "                  MULTIPLICATION : *\n",
      "                  DIVISION : /\n",
      "                  POWER : p\n",
      "Choose your operation : p\n",
      "64\n"
     ]
    }
   ],
   "source": [
    "## 1 ##\n",
    "\n",
    "a = int(input(\"Enter First Number : \"))\n",
    "b = int(input(\"Enter Second Number: \"))\n",
    "print('''Choose Operation in one of the following;\n",
    "                  ADDITION : +\n",
    "                  SUBTRACTION : -\n",
    "                  MULTIPLICATION : *\n",
    "                  DIVISION : /\n",
    "                  POWER : p''')\n",
    "operation = input(\"Choose your operation : \")      \n",
    "\n",
    "if operation == '+':\n",
    "    print(a + b)\n",
    "elif operation == '-':\n",
    "    print(a - b)\n",
    "elif operation == '*':\n",
    "    print(a * b)\n",
    "elif operation == '/':\n",
    "    print(a / b)\n",
    "elif operation == 'p':\n",
    "    print(a ** b)\n",
    "else:\n",
    "    print(\"SOMETHING IS WRONG.\")\n",
    "\n"
   ]
  },
  {
   "cell_type": "code",
   "execution_count": 22,
   "metadata": {},
   "outputs": [
    {
     "name": "stdout",
     "output_type": "stream",
     "text": [
      "15\n",
      "3\n"
     ]
    }
   ],
   "source": [
    "## 2 ##\n",
    "\n",
    "\n",
    "my_list = [\"Asad\", \"Zia\", 'A', 'z', 15, 2.5, 3]\n",
    "for numeric_value in my_list:\n",
    "    if type(numeric_value) == int:\n",
    "        print(numeric_value)"
   ]
  },
  {
   "cell_type": "code",
   "execution_count": 40,
   "metadata": {},
   "outputs": [
    {
     "name": "stdout",
     "output_type": "stream",
     "text": [
      "Enter new Key : Syem Alam\n",
      "Enter new value : 0321-1234567\n",
      "Asad 0300-124567\n",
      "Zia 0313-1234567\n",
      "Faiz 0345-1234567\n",
      "Saad 0333-1234567\n",
      "Syem Alam 0321-1234567\n"
     ]
    }
   ],
   "source": [
    "## 3 ##\n",
    "\n",
    "phonebook = {\n",
    "    \"Asad\" : \"0300-124567\",\n",
    "    \"Zia\" : \"0313-1234567\",\n",
    "    \"Faiz\" : \"0345-1234567\",\n",
    "    \"Saad\" : \"0333-1234567\"\n",
    "}\n",
    "\n",
    "new_key = input(\"Enter new Key : \")\n",
    "new_value = input(\"Enter new value : \")\n",
    "\n",
    "phonebook[new_key] = new_value\n",
    "\n",
    "for keys, values in phonebook.items():\n",
    "    print(keys, values)\n"
   ]
  },
  {
   "cell_type": "code",
   "execution_count": null,
   "metadata": {},
   "outputs": [],
   "source": [
    "## 4 ##\n",
    "\n",
    "dic = {\n",
    "    1 : 10, \n",
    "    2 : 12, \n",
    "    3 : 14, \n",
    "    4 : 16, \n",
    "    5 : 18, \n",
    "    6 : 20\n",
    "}\n",
    "print(sum(dic.values()))\n",
    "\n",
    "## Using for loop\n",
    "sum_total = sum(dic[item] for item in dic)\n",
    "print(sum_total)"
   ]
  },
  {
   "cell_type": "code",
   "execution_count": 43,
   "metadata": {},
   "outputs": [
    {
     "name": "stdout",
     "output_type": "stream",
     "text": [
      "Asad REPEATED\n",
      "Asad REPEATED\n"
     ]
    }
   ],
   "source": [
    "## 5 ##\n",
    "\n",
    "names_list = [\"Asad\", \"Faiz\", \"Zia\", \"Asad\", \"Syed\"]\n",
    "\n",
    "for values in names_list:\n",
    "    if names_list.count(values) > 1:\n",
    "        print(values + \" \" + \"REPEATED\")"
   ]
  },
  {
   "cell_type": "code",
   "execution_count": null,
   "metadata": {},
   "outputs": [],
   "source": [
    "## 6 ##\n",
    "\n",
    "phonebook = {\n",
    "    \"Asad\" : \"0300-124567\",\n",
    "    \"Zia\" : \"0313-1234567\",\n",
    "    \"Faiz\" : \"0345-1234567\",\n",
    "    \"Saad\" : \"0333-1234567\"\n",
    "}\n",
    "new_key = input(\"Enter new key to phonebook : \")\n",
    "##new_value = input(\"Enter new value to phonebook : \")\n",
    "for keys in phonebook.keys():\n",
    "    if phonebook.keys.:\n",
    "        print(\"Already Exist.\")\n",
    "    else:\n",
    "            print(\"Not Found.\")\n",
    "    print(keys)\n"
   ]
  },
  {
   "cell_type": "code",
   "execution_count": null,
   "metadata": {},
   "outputs": [],
   "source": []
  },
  {
   "cell_type": "code",
   "execution_count": null,
   "metadata": {},
   "outputs": [],
   "source": []
  },
  {
   "cell_type": "code",
   "execution_count": null,
   "metadata": {},
   "outputs": [],
   "source": []
  }
 ],
 "metadata": {
  "kernelspec": {
   "display_name": "Python 3",
   "language": "python",
   "name": "python3"
  },
  "language_info": {
   "codemirror_mode": {
    "name": "ipython",
    "version": 3
   },
   "file_extension": ".py",
   "mimetype": "text/x-python",
   "name": "python",
   "nbconvert_exporter": "python",
   "pygments_lexer": "ipython3",
   "version": "3.7.3"
  }
 },
 "nbformat": 4,
 "nbformat_minor": 2
}
