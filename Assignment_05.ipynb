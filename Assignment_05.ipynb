{
 "cells": [
  {
   "cell_type": "code",
   "execution_count": 2,
   "metadata": {},
   "outputs": [
    {
     "name": "stdout",
     "output_type": "stream",
     "text": [
      "Enter No: 6\n",
      "720\n"
     ]
    }
   ],
   "source": [
    "## Factorial ##\n",
    "n = int(input(\"Enter No: \"))\n",
    "def fact(n):\n",
    "    result = 1\n",
    "    for i in range(2, n + 1):\n",
    "        result *= i\n",
    "    return result\n",
    "\n",
    "my_fact = fact(n)\n",
    "print(my_fact)"
   ]
  },
  {
   "cell_type": "code",
   "execution_count": 3,
   "metadata": {},
   "outputs": [
    {
     "name": "stdout",
     "output_type": "stream",
     "text": [
      "Enter String: My name is Asad\n",
      "No. of Upper case characters : 2,No. of Lower case characters : 10\n",
      "None\n"
     ]
    }
   ],
   "source": [
    "## Capital and small alphabat in a string ##\n",
    "my_string = input('Enter String: ')\n",
    "def up_low(my_string):      \n",
    "    u = sum(1 for i in my_string if i.isupper())\n",
    "    l = sum(1 for i in my_string if i.islower())\n",
    "    print( \"No. of Upper case characters : %s,No. of Lower case characters : %s\" % (u,l))\n",
    "\n",
    "print(up_low(my_string))"
   ]
  },
  {
   "cell_type": "code",
   "execution_count": 4,
   "metadata": {},
   "outputs": [
    {
     "name": "stdout",
     "output_type": "stream",
     "text": [
      "[2, 4, 6, 8, 10]\n"
     ]
    }
   ],
   "source": [
    "## returns the even no in a list\n",
    "lst = [2, 4, 5, 6, 8, 9, 10, 11]\n",
    "\n",
    "def p_even(lst):\n",
    "    return [x for x in lst if x % 2 == 0]\n",
    "\n",
    "even_numbers = p_even(lst)\n",
    "\n",
    "print(even_numbers)"
   ]
  },
  {
   "cell_type": "code",
   "execution_count": 8,
   "metadata": {},
   "outputs": [
    {
     "name": "stdout",
     "output_type": "stream",
     "text": [
      "Enter your no: 5\n",
      "Prime No.\n"
     ]
    }
   ],
   "source": [
    "## Prime No ##\n",
    "a = int(input(\"Enter your no: \"))\n",
    "def is_prime(a):\n",
    "    return all(a % i for i in range(2, a))\n",
    "##print(is_prime(a))\n",
    "if is_prime(a) == True:\n",
    "    print(\"Prime No.\")\n",
    "else:\n",
    "    print(\"Not a Prime.\")"
   ]
  },
  {
   "cell_type": "code",
   "execution_count": 9,
   "metadata": {},
   "outputs": [
    {
     "name": "stdout",
     "output_type": "stream",
     "text": [
      "enter string : asa\n",
      "Palindrome\n"
     ]
    }
   ],
   "source": [
    "def isPalindrome(string):\n",
    "    left_pos = 0\n",
    "    right_pos = len(string) - 1\n",
    "    \n",
    "    while right_pos >= left_pos:\n",
    "        if not string[left_pos] == string[right_pos]:\n",
    "            return \"not a Palindrome\"\n",
    "        left_pos += 1\n",
    "        right_pos -= 1\n",
    "    return \"Palindrome\"\n",
    "\n",
    "str = input(\"enter string : \")\n",
    "print(isPalindrome(str)) "
   ]
  },
  {
   "cell_type": "code",
   "execution_count": 10,
   "metadata": {},
   "outputs": [
    {
     "name": "stdout",
     "output_type": "stream",
     "text": [
      "Apples\n",
      "Ginger\n",
      "Chicken\n",
      "Mutton\n",
      "Soaf\n",
      "Sugar\n",
      "Pantine\n"
     ]
    }
   ],
   "source": [
    "def shopping_list(*items):\n",
    "    for item in items:\n",
    "        print(item)\n",
    "        \n",
    "shopping_list(\"Apples\", \"Ginger\", \"Chicken\", \"Mutton\", \"Soaf\", \"Sugar\", \"Pantine\")"
   ]
  },
  {
   "cell_type": "code",
   "execution_count": null,
   "metadata": {},
   "outputs": [],
   "source": []
  }
 ],
 "metadata": {
  "kernelspec": {
   "display_name": "Python 3",
   "language": "python",
   "name": "python3"
  },
  "language_info": {
   "codemirror_mode": {
    "name": "ipython",
    "version": 3
   },
   "file_extension": ".py",
   "mimetype": "text/x-python",
   "name": "python",
   "nbconvert_exporter": "python",
   "pygments_lexer": "ipython3",
   "version": "3.7.3"
  }
 },
 "nbformat": 4,
 "nbformat_minor": 2
}
